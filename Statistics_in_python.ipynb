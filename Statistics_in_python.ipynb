{
  "nbformat": 4,
  "nbformat_minor": 0,
  "metadata": {
    "colab": {
      "name": "Statistics in python",
      "provenance": []
    },
    "kernelspec": {
      "name": "python3",
      "display_name": "Python 3"
    },
    "language_info": {
      "name": "python"
    }
  },
  "cells": [
    {
      "cell_type": "code",
      "metadata": {
        "id": "ULQHRUXAGneh"
      },
      "source": [
        "### BASIC stat\n",
        "##1)measures of central tendancy\n",
        "##  2)measures of location\n",
        "##3)measures of dispersion\n",
        "##4)measures of skewness\n",
        "##5)measures of kurtosis\n",
        "##covarience\n",
        "##correlation\n",
        "import numpy as np\n",
        "import pandas as pd"
      ],
      "execution_count": null,
      "outputs": []
    },
    {
      "cell_type": "code",
      "metadata": {
        "colab": {
          "base_uri": "https://localhost:8080/"
        },
        "id": "aCgSiI6PSiBs",
        "outputId": "3af29107-ae12-4a3d-ffe3-080adbef230d"
      },
      "source": [
        "x=pd.Series([2,6,8,10,12,14,16,18,20,22,24,26,30,8,10,23,8])\n",
        "x"
      ],
      "execution_count": null,
      "outputs": [
        {
          "output_type": "execute_result",
          "data": {
            "text/plain": [
              "0      2\n",
              "1      6\n",
              "2      8\n",
              "3     10\n",
              "4     12\n",
              "5     14\n",
              "6     16\n",
              "7     18\n",
              "8     20\n",
              "9     22\n",
              "10    24\n",
              "11    26\n",
              "12    30\n",
              "13     8\n",
              "14    10\n",
              "15    23\n",
              "16     8\n",
              "dtype: int64"
            ]
          },
          "metadata": {},
          "execution_count": 11
        }
      ]
    },
    {
      "cell_type": "code",
      "metadata": {
        "colab": {
          "base_uri": "https://localhost:8080/"
        },
        "id": "_Q7bbp2pTXqf",
        "outputId": "198163a7-6f98-4ff1-b9b7-d5a45f674768"
      },
      "source": [
        "## Measures of central tendancy\n",
        "print('mean of x =',x.mean())\n",
        "print('varirnce of x =',x.var())\n",
        "print('mode of x =',x.mode())\n",
        "print('median of x =',x.median())\n",
        "print(x.value_counts())\n",
        "print(np.sort(x))"
      ],
      "execution_count": null,
      "outputs": [
        {
          "output_type": "stream",
          "name": "stdout",
          "text": [
            "mean of x = 15.117647058823529\n",
            "varirnce of x = 64.48529411764706\n",
            "mode of x = 0    8\n",
            "dtype: int64\n",
            "median of x = 14.0\n",
            "8     3\n",
            "10    2\n",
            "30    1\n",
            "26    1\n",
            "24    1\n",
            "23    1\n",
            "22    1\n",
            "20    1\n",
            "18    1\n",
            "16    1\n",
            "14    1\n",
            "12    1\n",
            "6     1\n",
            "2     1\n",
            "dtype: int64\n",
            "[ 2  6  8  8  8 10 10 12 14 16 18 20 22 23 24 26 30]\n"
          ]
        }
      ]
    },
    {
      "cell_type": "code",
      "metadata": {
        "colab": {
          "base_uri": "https://localhost:8080/"
        },
        "id": "z6XOYXXfUAnZ",
        "outputId": "8144191a-6012-4285-bd79-32b1778a6a3a"
      },
      "source": [
        "# Measures of location\n",
        "y=x.quantile([0.25,0.5,0.75,0.95])\n",
        "y"
      ],
      "execution_count": null,
      "outputs": [
        {
          "output_type": "execute_result",
          "data": {
            "text/plain": [
              "0.25     8.0\n",
              "0.50    14.0\n",
              "0.75    22.0\n",
              "0.95    26.8\n",
              "dtype: float64"
            ]
          },
          "metadata": {},
          "execution_count": 13
        }
      ]
    },
    {
      "cell_type": "code",
      "metadata": {
        "colab": {
          "base_uri": "https://localhost:8080/"
        },
        "id": "woTFyUY2U9sR",
        "outputId": "a303cbd3-4511-419e-baf0-43456ba9aff0"
      },
      "source": [
        "# Measures of dispersion\n",
        "print('variance =',x.var()) #\n",
        "print('Std =',x.std())\n",
        "y=np.array([-4,-4,-4,-2])\n",
        "np.var(y)"
      ],
      "execution_count": null,
      "outputs": [
        {
          "output_type": "stream",
          "name": "stdout",
          "text": [
            "variance = 64.48529411764706\n",
            "Std = 8.03027360166807\n"
          ]
        },
        {
          "output_type": "execute_result",
          "data": {
            "text/plain": [
              "0.75"
            ]
          },
          "metadata": {},
          "execution_count": 14
        }
      ]
    },
    {
      "cell_type": "code",
      "metadata": {
        "colab": {
          "base_uri": "https://localhost:8080/"
        },
        "id": "dl4wkecxVdDj",
        "outputId": "2103720d-ce9b-4ed5-c901-d133648451ae"
      },
      "source": [
        "## measure of skewness\n",
        "x.skew()"
      ],
      "execution_count": null,
      "outputs": [
        {
          "output_type": "execute_result",
          "data": {
            "text/plain": [
              "0.25248525221146645"
            ]
          },
          "metadata": {},
          "execution_count": 15
        }
      ]
    },
    {
      "cell_type": "code",
      "metadata": {
        "colab": {
          "base_uri": "https://localhost:8080/"
        },
        "id": "fHznwqWmVmYv",
        "outputId": "2a69e485-48f5-49de-c1c1-b71aaf52ca36"
      },
      "source": [
        "## measure of kurtosis\n",
        "x.kurtosis()"
      ],
      "execution_count": null,
      "outputs": [
        {
          "output_type": "execute_result",
          "data": {
            "text/plain": [
              "-0.9910726905741054"
            ]
          },
          "metadata": {},
          "execution_count": 16
        }
      ]
    },
    {
      "cell_type": "code",
      "metadata": {
        "colab": {
          "base_uri": "https://localhost:8080/"
        },
        "id": "I_yh0OTEVuMw",
        "outputId": "2c29b6c5-0d5b-449b-f5e3-beaf0b93690f"
      },
      "source": [
        "# Covariance, Correlation\n",
        "x=np.array([2,5,3,4,2,6,5,8,9])\n",
        "y=np.array([9,5,8,6,4,6,9,5,3])\n",
        "np.cov(x,y)"
      ],
      "execution_count": null,
      "outputs": [
        {
          "output_type": "execute_result",
          "data": {
            "text/plain": [
              "array([[ 6.11111111, -2.73611111],\n",
              "       [-2.73611111,  4.61111111]])"
            ]
          },
          "metadata": {},
          "execution_count": 17
        }
      ]
    },
    {
      "cell_type": "code",
      "metadata": {
        "colab": {
          "base_uri": "https://localhost:8080/"
        },
        "id": "eDdr4-KFV31G",
        "outputId": "f3d2da0c-7420-4410-d07e-5b3fcc08a6e8"
      },
      "source": [
        "np.corrcoef(x,y)"
      ],
      "execution_count": null,
      "outputs": [
        {
          "output_type": "execute_result",
          "data": {
            "text/plain": [
              "array([[ 1.        , -0.51543137],\n",
              "       [-0.51543137,  1.        ]])"
            ]
          },
          "metadata": {},
          "execution_count": 18
        }
      ]
    },
    {
      "cell_type": "code",
      "metadata": {
        "colab": {
          "base_uri": "https://localhost:8080/",
          "height": 325
        },
        "id": "6s4zsKJxWAGU",
        "outputId": "91f13115-b0a2-4311-db74-c23e01b79dd6"
      },
      "source": [
        "## same oprations are for dataframe\n",
        "df=pd.DataFrame({'x':[2,5,3,4,2,6,5,8,9],'y':[9,5,8,6,4,6,9,5,3]})\n",
        "df"
      ],
      "execution_count": null,
      "outputs": [
        {
          "output_type": "execute_result",
          "data": {
            "text/html": [
              "<div>\n",
              "<style scoped>\n",
              "    .dataframe tbody tr th:only-of-type {\n",
              "        vertical-align: middle;\n",
              "    }\n",
              "\n",
              "    .dataframe tbody tr th {\n",
              "        vertical-align: top;\n",
              "    }\n",
              "\n",
              "    .dataframe thead th {\n",
              "        text-align: right;\n",
              "    }\n",
              "</style>\n",
              "<table border=\"1\" class=\"dataframe\">\n",
              "  <thead>\n",
              "    <tr style=\"text-align: right;\">\n",
              "      <th></th>\n",
              "      <th>x</th>\n",
              "      <th>y</th>\n",
              "    </tr>\n",
              "  </thead>\n",
              "  <tbody>\n",
              "    <tr>\n",
              "      <th>0</th>\n",
              "      <td>2</td>\n",
              "      <td>9</td>\n",
              "    </tr>\n",
              "    <tr>\n",
              "      <th>1</th>\n",
              "      <td>5</td>\n",
              "      <td>5</td>\n",
              "    </tr>\n",
              "    <tr>\n",
              "      <th>2</th>\n",
              "      <td>3</td>\n",
              "      <td>8</td>\n",
              "    </tr>\n",
              "    <tr>\n",
              "      <th>3</th>\n",
              "      <td>4</td>\n",
              "      <td>6</td>\n",
              "    </tr>\n",
              "    <tr>\n",
              "      <th>4</th>\n",
              "      <td>2</td>\n",
              "      <td>4</td>\n",
              "    </tr>\n",
              "    <tr>\n",
              "      <th>5</th>\n",
              "      <td>6</td>\n",
              "      <td>6</td>\n",
              "    </tr>\n",
              "    <tr>\n",
              "      <th>6</th>\n",
              "      <td>5</td>\n",
              "      <td>9</td>\n",
              "    </tr>\n",
              "    <tr>\n",
              "      <th>7</th>\n",
              "      <td>8</td>\n",
              "      <td>5</td>\n",
              "    </tr>\n",
              "    <tr>\n",
              "      <th>8</th>\n",
              "      <td>9</td>\n",
              "      <td>3</td>\n",
              "    </tr>\n",
              "  </tbody>\n",
              "</table>\n",
              "</div>"
            ],
            "text/plain": [
              "   x  y\n",
              "0  2  9\n",
              "1  5  5\n",
              "2  3  8\n",
              "3  4  6\n",
              "4  2  4\n",
              "5  6  6\n",
              "6  5  9\n",
              "7  8  5\n",
              "8  9  3"
            ]
          },
          "metadata": {},
          "execution_count": 19
        }
      ]
    },
    {
      "cell_type": "code",
      "metadata": {
        "colab": {
          "base_uri": "https://localhost:8080/",
          "height": 110
        },
        "id": "1cLiCsHyWQ5q",
        "outputId": "1c5dad82-b2e1-4a97-cfa9-0e6af9afc59f"
      },
      "source": [
        "df.corr()"
      ],
      "execution_count": null,
      "outputs": [
        {
          "output_type": "execute_result",
          "data": {
            "text/html": [
              "<div>\n",
              "<style scoped>\n",
              "    .dataframe tbody tr th:only-of-type {\n",
              "        vertical-align: middle;\n",
              "    }\n",
              "\n",
              "    .dataframe tbody tr th {\n",
              "        vertical-align: top;\n",
              "    }\n",
              "\n",
              "    .dataframe thead th {\n",
              "        text-align: right;\n",
              "    }\n",
              "</style>\n",
              "<table border=\"1\" class=\"dataframe\">\n",
              "  <thead>\n",
              "    <tr style=\"text-align: right;\">\n",
              "      <th></th>\n",
              "      <th>x</th>\n",
              "      <th>y</th>\n",
              "    </tr>\n",
              "  </thead>\n",
              "  <tbody>\n",
              "    <tr>\n",
              "      <th>x</th>\n",
              "      <td>1.000000</td>\n",
              "      <td>-0.515431</td>\n",
              "    </tr>\n",
              "    <tr>\n",
              "      <th>y</th>\n",
              "      <td>-0.515431</td>\n",
              "      <td>1.000000</td>\n",
              "    </tr>\n",
              "  </tbody>\n",
              "</table>\n",
              "</div>"
            ],
            "text/plain": [
              "          x         y\n",
              "x  1.000000 -0.515431\n",
              "y -0.515431  1.000000"
            ]
          },
          "metadata": {},
          "execution_count": 20
        }
      ]
    },
    {
      "cell_type": "code",
      "metadata": {
        "colab": {
          "base_uri": "https://localhost:8080/",
          "height": 110
        },
        "id": "w45Bd8PpWiFN",
        "outputId": "928e8a9d-fe9c-499f-d3ae-4b91248f8d64"
      },
      "source": [
        "df.cov()"
      ],
      "execution_count": null,
      "outputs": [
        {
          "output_type": "execute_result",
          "data": {
            "text/html": [
              "<div>\n",
              "<style scoped>\n",
              "    .dataframe tbody tr th:only-of-type {\n",
              "        vertical-align: middle;\n",
              "    }\n",
              "\n",
              "    .dataframe tbody tr th {\n",
              "        vertical-align: top;\n",
              "    }\n",
              "\n",
              "    .dataframe thead th {\n",
              "        text-align: right;\n",
              "    }\n",
              "</style>\n",
              "<table border=\"1\" class=\"dataframe\">\n",
              "  <thead>\n",
              "    <tr style=\"text-align: right;\">\n",
              "      <th></th>\n",
              "      <th>x</th>\n",
              "      <th>y</th>\n",
              "    </tr>\n",
              "  </thead>\n",
              "  <tbody>\n",
              "    <tr>\n",
              "      <th>x</th>\n",
              "      <td>6.111111</td>\n",
              "      <td>-2.736111</td>\n",
              "    </tr>\n",
              "    <tr>\n",
              "      <th>y</th>\n",
              "      <td>-2.736111</td>\n",
              "      <td>4.611111</td>\n",
              "    </tr>\n",
              "  </tbody>\n",
              "</table>\n",
              "</div>"
            ],
            "text/plain": [
              "          x         y\n",
              "x  6.111111 -2.736111\n",
              "y -2.736111  4.611111"
            ]
          },
          "metadata": {},
          "execution_count": 21
        }
      ]
    },
    {
      "cell_type": "code",
      "metadata": {
        "colab": {
          "base_uri": "https://localhost:8080/"
        },
        "id": "-t7GOc-vWkD4",
        "outputId": "426c964a-2eac-4a58-8b80-f975434ae389"
      },
      "source": [
        "## Measures of central tendancy\n",
        "print('mean of df =',df.mean())\n",
        "print('varirnce of df =',df.var())\n",
        "print('mode of df =',df.mode())\n",
        "print('median of df =',df.median())\n",
        "print(df.value_counts())\n",
        "print(np.sort(df))"
      ],
      "execution_count": null,
      "outputs": [
        {
          "output_type": "stream",
          "name": "stdout",
          "text": [
            "mean of df = x    4.888889\n",
            "y    6.111111\n",
            "dtype: float64\n",
            "varirnce of df = x    6.111111\n",
            "y    4.611111\n",
            "dtype: float64\n",
            "mode of df =      x  y\n",
            "0  2.0  5\n",
            "1  5.0  6\n",
            "2  NaN  9\n",
            "median of df = x    5.0\n",
            "y    6.0\n",
            "dtype: float64\n",
            "x  y\n",
            "9  3    1\n",
            "8  5    1\n",
            "6  6    1\n",
            "5  9    1\n",
            "   5    1\n",
            "4  6    1\n",
            "3  8    1\n",
            "2  9    1\n",
            "   4    1\n",
            "dtype: int64\n",
            "[[2 9]\n",
            " [5 5]\n",
            " [3 8]\n",
            " [4 6]\n",
            " [2 4]\n",
            " [6 6]\n",
            " [5 9]\n",
            " [5 8]\n",
            " [3 9]]\n"
          ]
        }
      ]
    },
    {
      "cell_type": "code",
      "metadata": {
        "colab": {
          "base_uri": "https://localhost:8080/",
          "height": 172
        },
        "id": "k-eDyLOsW4Hw",
        "outputId": "697a3a23-ce9a-4de6-fae3-7a5d55a63ade"
      },
      "source": [
        "# Measures of location\n",
        "y=df.quantile([0.25,0.5,0.75,0.95])\n",
        "y"
      ],
      "execution_count": null,
      "outputs": [
        {
          "output_type": "execute_result",
          "data": {
            "text/html": [
              "<div>\n",
              "<style scoped>\n",
              "    .dataframe tbody tr th:only-of-type {\n",
              "        vertical-align: middle;\n",
              "    }\n",
              "\n",
              "    .dataframe tbody tr th {\n",
              "        vertical-align: top;\n",
              "    }\n",
              "\n",
              "    .dataframe thead th {\n",
              "        text-align: right;\n",
              "    }\n",
              "</style>\n",
              "<table border=\"1\" class=\"dataframe\">\n",
              "  <thead>\n",
              "    <tr style=\"text-align: right;\">\n",
              "      <th></th>\n",
              "      <th>x</th>\n",
              "      <th>y</th>\n",
              "    </tr>\n",
              "  </thead>\n",
              "  <tbody>\n",
              "    <tr>\n",
              "      <th>0.25</th>\n",
              "      <td>3.0</td>\n",
              "      <td>5.0</td>\n",
              "    </tr>\n",
              "    <tr>\n",
              "      <th>0.50</th>\n",
              "      <td>5.0</td>\n",
              "      <td>6.0</td>\n",
              "    </tr>\n",
              "    <tr>\n",
              "      <th>0.75</th>\n",
              "      <td>6.0</td>\n",
              "      <td>8.0</td>\n",
              "    </tr>\n",
              "    <tr>\n",
              "      <th>0.95</th>\n",
              "      <td>8.6</td>\n",
              "      <td>9.0</td>\n",
              "    </tr>\n",
              "  </tbody>\n",
              "</table>\n",
              "</div>"
            ],
            "text/plain": [
              "        x    y\n",
              "0.25  3.0  5.0\n",
              "0.50  5.0  6.0\n",
              "0.75  6.0  8.0\n",
              "0.95  8.6  9.0"
            ]
          },
          "metadata": {},
          "execution_count": 23
        }
      ]
    },
    {
      "cell_type": "code",
      "metadata": {
        "colab": {
          "base_uri": "https://localhost:8080/"
        },
        "id": "_QZAk51gXDVc",
        "outputId": "909655e5-65be-4682-bf0a-4b69a0671476"
      },
      "source": [
        "# Measures of dispersion\n",
        "print('variance =',df.var()) #\n",
        "print('Std =',df.std())\n",
        "y=np.array([-4,-4,-4,-2])\n",
        "np.var(y)"
      ],
      "execution_count": null,
      "outputs": [
        {
          "output_type": "stream",
          "name": "stdout",
          "text": [
            "variance = x    6.111111\n",
            "y    4.611111\n",
            "dtype: float64\n",
            "Std = x    2.472066\n",
            "y    2.147350\n",
            "dtype: float64\n"
          ]
        },
        {
          "output_type": "execute_result",
          "data": {
            "text/plain": [
              "0.75"
            ]
          },
          "metadata": {},
          "execution_count": 25
        }
      ]
    },
    {
      "cell_type": "code",
      "metadata": {
        "colab": {
          "base_uri": "https://localhost:8080/",
          "height": 110
        },
        "id": "9yPB-fpWXU8D",
        "outputId": "1b5a803a-0550-451d-fe5e-36df98bec8e6"
      },
      "source": [
        "#measures of skewness &kurtosis\n",
        "df.cov()\n",
        "df.corr()"
      ],
      "execution_count": null,
      "outputs": [
        {
          "output_type": "execute_result",
          "data": {
            "text/html": [
              "<div>\n",
              "<style scoped>\n",
              "    .dataframe tbody tr th:only-of-type {\n",
              "        vertical-align: middle;\n",
              "    }\n",
              "\n",
              "    .dataframe tbody tr th {\n",
              "        vertical-align: top;\n",
              "    }\n",
              "\n",
              "    .dataframe thead th {\n",
              "        text-align: right;\n",
              "    }\n",
              "</style>\n",
              "<table border=\"1\" class=\"dataframe\">\n",
              "  <thead>\n",
              "    <tr style=\"text-align: right;\">\n",
              "      <th></th>\n",
              "      <th>x</th>\n",
              "      <th>y</th>\n",
              "    </tr>\n",
              "  </thead>\n",
              "  <tbody>\n",
              "    <tr>\n",
              "      <th>x</th>\n",
              "      <td>1.000000</td>\n",
              "      <td>-0.515431</td>\n",
              "    </tr>\n",
              "    <tr>\n",
              "      <th>y</th>\n",
              "      <td>-0.515431</td>\n",
              "      <td>1.000000</td>\n",
              "    </tr>\n",
              "  </tbody>\n",
              "</table>\n",
              "</div>"
            ],
            "text/plain": [
              "          x         y\n",
              "x  1.000000 -0.515431\n",
              "y -0.515431  1.000000"
            ]
          },
          "metadata": {},
          "execution_count": 26
        }
      ]
    },
    {
      "cell_type": "code",
      "metadata": {
        "id": "cj8m6qxqXij5"
      },
      "source": [
        ""
      ],
      "execution_count": null,
      "outputs": []
    },
    {
      "cell_type": "code",
      "metadata": {
        "colab": {
          "base_uri": "https://localhost:8080/",
          "height": 294
        },
        "id": "aLiMjeQJXuw-",
        "outputId": "fa24bd37-48d1-4e85-ce27-3bbf7a4857d4"
      },
      "source": [
        "df.describe()"
      ],
      "execution_count": null,
      "outputs": [
        {
          "output_type": "execute_result",
          "data": {
            "text/html": [
              "<div>\n",
              "<style scoped>\n",
              "    .dataframe tbody tr th:only-of-type {\n",
              "        vertical-align: middle;\n",
              "    }\n",
              "\n",
              "    .dataframe tbody tr th {\n",
              "        vertical-align: top;\n",
              "    }\n",
              "\n",
              "    .dataframe thead th {\n",
              "        text-align: right;\n",
              "    }\n",
              "</style>\n",
              "<table border=\"1\" class=\"dataframe\">\n",
              "  <thead>\n",
              "    <tr style=\"text-align: right;\">\n",
              "      <th></th>\n",
              "      <th>x</th>\n",
              "      <th>y</th>\n",
              "    </tr>\n",
              "  </thead>\n",
              "  <tbody>\n",
              "    <tr>\n",
              "      <th>count</th>\n",
              "      <td>9.000000</td>\n",
              "      <td>9.000000</td>\n",
              "    </tr>\n",
              "    <tr>\n",
              "      <th>mean</th>\n",
              "      <td>4.888889</td>\n",
              "      <td>6.111111</td>\n",
              "    </tr>\n",
              "    <tr>\n",
              "      <th>std</th>\n",
              "      <td>2.472066</td>\n",
              "      <td>2.147350</td>\n",
              "    </tr>\n",
              "    <tr>\n",
              "      <th>min</th>\n",
              "      <td>2.000000</td>\n",
              "      <td>3.000000</td>\n",
              "    </tr>\n",
              "    <tr>\n",
              "      <th>25%</th>\n",
              "      <td>3.000000</td>\n",
              "      <td>5.000000</td>\n",
              "    </tr>\n",
              "    <tr>\n",
              "      <th>50%</th>\n",
              "      <td>5.000000</td>\n",
              "      <td>6.000000</td>\n",
              "    </tr>\n",
              "    <tr>\n",
              "      <th>75%</th>\n",
              "      <td>6.000000</td>\n",
              "      <td>8.000000</td>\n",
              "    </tr>\n",
              "    <tr>\n",
              "      <th>max</th>\n",
              "      <td>9.000000</td>\n",
              "      <td>9.000000</td>\n",
              "    </tr>\n",
              "  </tbody>\n",
              "</table>\n",
              "</div>"
            ],
            "text/plain": [
              "              x         y\n",
              "count  9.000000  9.000000\n",
              "mean   4.888889  6.111111\n",
              "std    2.472066  2.147350\n",
              "min    2.000000  3.000000\n",
              "25%    3.000000  5.000000\n",
              "50%    5.000000  6.000000\n",
              "75%    6.000000  8.000000\n",
              "max    9.000000  9.000000"
            ]
          },
          "metadata": {},
          "execution_count": 28
        }
      ]
    },
    {
      "cell_type": "code",
      "metadata": {
        "id": "9jaqva_LX6_X"
      },
      "source": [
        "#### PROBABILITY DISTRIBUTIONS\n",
        "### bernoulli distribution\n",
        "# Library\n",
        "import numpy as np\n",
        "from scipy.stats import bernoulli\n",
        "import matplotlib.pyplot as plt\n",
        "%matplotlib inline"
      ],
      "execution_count": null,
      "outputs": []
    },
    {
      "cell_type": "code",
      "metadata": {
        "colab": {
          "base_uri": "https://localhost:8080/"
        },
        "id": "V_DSQRlYY2m9",
        "outputId": "4e98aaa8-636d-49f3-b511-96efdf04249c"
      },
      "source": [
        "p=0.4;\n",
        "x=[0,1]\n",
        "bernoulli.pmf(x,p)"
      ],
      "execution_count": null,
      "outputs": [
        {
          "output_type": "execute_result",
          "data": {
            "text/plain": [
              "array([0.6, 0.4])"
            ]
          },
          "metadata": {},
          "execution_count": 31
        }
      ]
    },
    {
      "cell_type": "code",
      "metadata": {
        "colab": {
          "base_uri": "https://localhost:8080/"
        },
        "id": "w79VR3dLZKjY",
        "outputId": "5c54d9d3-98c1-416b-97ce-eaf2f9d8b224"
      },
      "source": [
        "bernoulli.cdf(x,p)"
      ],
      "execution_count": null,
      "outputs": [
        {
          "output_type": "execute_result",
          "data": {
            "text/plain": [
              "array([0.6, 1. ])"
            ]
          },
          "metadata": {},
          "execution_count": 32
        }
      ]
    },
    {
      "cell_type": "code",
      "metadata": {
        "colab": {
          "base_uri": "https://localhost:8080/"
        },
        "id": "quNezFJWZZdF",
        "outputId": "aa6a0df8-01fd-43f9-8c0f-41bf5e30a37a"
      },
      "source": [
        "mean, var, skew, kurt = bernoulli.stats(p, moments='mvsk')\n",
        "print(mean)\n",
        "print(var)\n",
        "print(skew)\n",
        "print(kurt)"
      ],
      "execution_count": null,
      "outputs": [
        {
          "output_type": "stream",
          "name": "stdout",
          "text": [
            "0.4\n",
            "0.24\n",
            "0.40824829046386296\n",
            "-1.8333333333333337\n"
          ]
        }
      ]
    },
    {
      "cell_type": "code",
      "metadata": {
        "colab": {
          "base_uri": "https://localhost:8080/"
        },
        "id": "rPGWwvTYZnj-",
        "outputId": "e391d7e3-e70a-463d-fcb1-64c6ab68890b"
      },
      "source": [
        "bernoulli.rvs(p,size=15)"
      ],
      "execution_count": null,
      "outputs": [
        {
          "output_type": "execute_result",
          "data": {
            "text/plain": [
              "array([1, 0, 0, 1, 0, 1, 1, 0, 0, 1, 1, 1, 0, 0, 0])"
            ]
          },
          "metadata": {},
          "execution_count": 34
        }
      ]
    },
    {
      "cell_type": "code",
      "metadata": {
        "colab": {
          "base_uri": "https://localhost:8080/",
          "height": 295
        },
        "id": "eAyAFxLrZ-c-",
        "outputId": "45411f85-a003-49f6-b163-8c650e8d0d36"
      },
      "source": [
        "plt.plot(x,bernoulli.pmf(x,0.8),ls=\"\",marker=\"s\",color='b') ##try for other colours\n",
        "plt.xlabel('x')\n",
        "plt.ylabel('Prob')\n",
        "plt.title('PMF of Bernoulli')\n",
        "plt.show()"
      ],
      "execution_count": null,
      "outputs": [
        {
          "output_type": "display_data",
          "data": {
            "image/png": "[encoded data removed]",
            "text/plain": [
              "<Figure size 432x288 with 1 Axes>"
            ]
          },
          "metadata": {
            "needs_background": "light"
          }
        }
      ]
    },
    {
      "cell_type": "code",
      "metadata": {
        "colab": {
          "base_uri": "https://localhost:8080/",
          "height": 295
        },
        "id": "8STccq--ajqU",
        "outputId": "61360855-b4b6-4115-907b-472b93d24207"
      },
      "source": [
        "berndata=bernoulli.rvs(size=10000,p=0.6)\n",
        "plt.hist(berndata,color='g') # add color='red',bins=20\n",
        "plt.xlabel('x')\n",
        "plt.ylabel('Freq')\n",
        "plt.title('histogram')\n",
        "plt.show()"
      ],
      "execution_count": null,
      "outputs": [
        {
          "output_type": "display_data",
          "data": {
            "image/png": "[encoded data removed]",
            "text/plain": [
              "<Figure size 432x288 with 1 Axes>"
            ]
          },
          "metadata": {
            "needs_background": "light"
          }
        }
      ]
    },
    {
      "cell_type": "code",
      "metadata": {
        "colab": {
          "base_uri": "https://localhost:8080/"
        },
        "id": "D_yjM8YDePtA",
        "outputId": "28146019-e3e6-404c-e288-e271425f6ef9"
      },
      "source": [
        "##### BINOMIAL DISTRIBUTION\n",
        "from scipy.stats import binom\n",
        "n,p=20,0.2\n",
        "np.array(14)"
      ],
      "execution_count": null,
      "outputs": [
        {
          "output_type": "execute_result",
          "data": {
            "text/plain": [
              "array(14)"
            ]
          },
          "metadata": {},
          "execution_count": 66
        }
      ]
    },
    {
      "cell_type": "code",
      "metadata": {
        "colab": {
          "base_uri": "https://localhost:8080/"
        },
        "id": "kBjPj7kqfMF9",
        "outputId": "c3127c90-2956-43f6-f9ea-2df54cd71f72"
      },
      "source": [
        "binom.pmf(x,n,p)"
      ],
      "execution_count": null,
      "outputs": [
        {
          "output_type": "execute_result",
          "data": {
            "text/plain": [
              "array([0.01152922, 0.05764608])"
            ]
          },
          "metadata": {},
          "execution_count": 67
        }
      ]
    },
    {
      "cell_type": "code",
      "metadata": {
        "colab": {
          "base_uri": "https://localhost:8080/"
        },
        "id": "DNjzLIPKfWBf",
        "outputId": "633f43c5-5419-480c-b96c-a0f824960b57"
      },
      "source": [
        "binom.cdf(x,n,p)"
      ],
      "execution_count": null,
      "outputs": [
        {
          "output_type": "execute_result",
          "data": {
            "text/plain": [
              "array([0.01152922, 0.06917529])"
            ]
          },
          "metadata": {},
          "execution_count": 68
        }
      ]
    },
    {
      "cell_type": "code",
      "metadata": {
        "colab": {
          "base_uri": "https://localhost:8080/"
        },
        "id": "9KKicWoEfdER",
        "outputId": "ab5e68be-99e9-471a-a3a7-1def5cc19334"
      },
      "source": [
        "mean, var, skew, kurt = binom.stats(n, p, moments='mvsk')\n",
        "print(mean)\n",
        "print(var)\n",
        "print(skew)\n",
        "print(kurt)"
      ],
      "execution_count": null,
      "outputs": [
        {
          "output_type": "stream",
          "name": "stdout",
          "text": [
            "4.0\n",
            "3.2\n",
            "0.3354101966249685\n",
            "0.012499999999999942\n"
          ]
        }
      ]
    },
    {
      "cell_type": "code",
      "metadata": {
        "colab": {
          "base_uri": "https://localhost:8080/"
        },
        "id": "ezxQTWydfvsI",
        "outputId": "4cfd1dbb-7c51-417d-9797-4c4c7a5a9486"
      },
      "source": [
        "binom.rvs(n,p,size=15)"
      ],
      "execution_count": null,
      "outputs": [
        {
          "output_type": "execute_result",
          "data": {
            "text/plain": [
              "array([4, 3, 2, 3, 7, 4, 4, 6, 1, 2, 4, 3, 7, 4, 5])"
            ]
          },
          "metadata": {},
          "execution_count": 70
        }
      ]
    },
    {
      "cell_type": "code",
      "metadata": {
        "colab": {
          "base_uri": "https://localhost:8080/",
          "height": 295
        },
        "id": "yzlMKkmHgPp-",
        "outputId": "73049b77-1d9b-44fb-ac1d-453d3e551006"
      },
      "source": [
        ""
      ],
      "execution_count": null,
      "outputs": [
        {
          "output_type": "display_data",
          "data": {
            "image/png": "[encoded data removed]",
            "text/plain": [
              "<Figure size 432x288 with 1 Axes>"
            ]
          },
          "metadata": {
            "needs_background": "light"
          }
        }
      ]
    },
    {
      "cell_type": "code",
      "metadata": {
        "colab": {
          "base_uri": "https://localhost:8080/",
          "height": 295
        },
        "id": "FPFrirLgi-g7",
        "outputId": "b4903367-65c5-480d-c4b0-792cce0bb1e8"
      },
      "source": [
        "data_binom = binom.rvs(size=10000, n=10,p=0.3)\n",
        "plt.hist(data_binom,color='green',bins=20) # add color='red',bins=20\n",
        "plt.xlabel('x')\n",
        "plt.ylabel('Freq')\n",
        "plt.title('histogram')\n",
        "plt.show()"
      ],
      "execution_count": 79,
      "outputs": [
        {
          "output_type": "display_data",
          "data": {
            "image/png": "[encoded data removed]",
            "text/plain": [
              "<Figure size 432x288 with 1 Axes>"
            ]
          },
          "metadata": {
            "needs_background": "light"
          }
        }
      ]
    },
    {
      "cell_type": "code",
      "metadata": {
        "id": "yeKDIM19i4AW"
      },
      "source": [
        "#### POISSON DISTRIBUTION\n",
        "from scipy.stats import poisson"
      ],
      "execution_count": 80,
      "outputs": []
    },
    {
      "cell_type": "code",
      "metadata": {
        "colab": {
          "base_uri": "https://localhost:8080/"
        },
        "id": "fO-Y41-Gkn98",
        "outputId": "1c31ba14-1186-4eea-beb7-c3381dea4fb9"
      },
      "source": [
        "rate=3.5\n",
        "x=np.arange(25)\n",
        "x"
      ],
      "execution_count": 82,
      "outputs": [
        {
          "output_type": "execute_result",
          "data": {
            "text/plain": [
              "array([ 0,  1,  2,  3,  4,  5,  6,  7,  8,  9, 10, 11, 12, 13, 14, 15, 16,\n",
              "       17, 18, 19, 20, 21, 22, 23, 24])"
            ]
          },
          "metadata": {},
          "execution_count": 82
        }
      ]
    },
    {
      "cell_type": "code",
      "metadata": {
        "colab": {
          "base_uri": "https://localhost:8080/"
        },
        "id": "XHGd9LlQkpEj",
        "outputId": "36e0c975-0ea4-405e-f354-4270fcd06f3c"
      },
      "source": [
        "poisson.pmf(x, rate)"
      ],
      "execution_count": 83,
      "outputs": [
        {
          "output_type": "execute_result",
          "data": {
            "text/plain": [
              "array([3.01973834e-02, 1.05690842e-01, 1.84958973e-01, 2.15785469e-01,\n",
              "       1.88812285e-01, 1.32168600e-01, 7.70983499e-02, 3.85491749e-02,\n",
              "       1.68652640e-02, 6.55871379e-03, 2.29554983e-03, 7.30402218e-04,\n",
              "       2.13033980e-04, 5.73553024e-05, 1.43388256e-05, 3.34572597e-06,\n",
              "       7.31877556e-07, 1.50680673e-07, 2.92990198e-08, 5.39718786e-09,\n",
              "       9.44507875e-10, 1.57417979e-10, 2.50437694e-11, 3.81100839e-12,\n",
              "       5.55772057e-13])"
            ]
          },
          "metadata": {},
          "execution_count": 83
        }
      ]
    },
    {
      "cell_type": "code",
      "metadata": {
        "colab": {
          "base_uri": "https://localhost:8080/"
        },
        "id": "k0gkVoQkk7FH",
        "outputId": "0cdefb84-752e-4013-db86-3d6d562e2d47"
      },
      "source": [
        "poisson.cdf(x,rate)"
      ],
      "execution_count": 84,
      "outputs": [
        {
          "output_type": "execute_result",
          "data": {
            "text/plain": [
              "array([0.03019738, 0.13588823, 0.3208472 , 0.53663267, 0.72544495,\n",
              "       0.85761355, 0.9347119 , 0.97326108, 0.99012634, 0.99668506,\n",
              "       0.99898061, 0.99971101, 0.99992404, 0.9999814 , 0.99999574,\n",
              "       0.99999908, 0.99999981, 0.99999996, 0.99999999, 1.        ,\n",
              "       1.        , 1.        , 1.        , 1.        , 1.        ])"
            ]
          },
          "metadata": {},
          "execution_count": 84
        }
      ]
    },
    {
      "cell_type": "code",
      "metadata": {
        "colab": {
          "base_uri": "https://localhost:8080/"
        },
        "id": "IqXHo6Vfk_QX",
        "outputId": "47693f23-7d92-490a-ade0-41cb2c7b3a94"
      },
      "source": [
        "mean, var, skew, kurt = poisson.stats(rate, moments='mvsk')\n",
        "print(mean)\n",
        "print(var)\n",
        "print(skew)\n",
        "print(kurt)"
      ],
      "execution_count": 85,
      "outputs": [
        {
          "output_type": "stream",
          "name": "stdout",
          "text": [
            "3.5\n",
            "3.5\n",
            "0.5345224838248488\n",
            "0.2857142857142857\n"
          ]
        }
      ]
    },
    {
      "cell_type": "code",
      "metadata": {
        "colab": {
          "base_uri": "https://localhost:8080/"
        },
        "id": "rbIihI2dlJTL",
        "outputId": "86925540-3e3d-48dd-b1e0-8ecf3d06fd4c"
      },
      "source": [
        "poisson.rvs(mu=rate,size=20)"
      ],
      "execution_count": 87,
      "outputs": [
        {
          "output_type": "execute_result",
          "data": {
            "text/plain": [
              "array([1, 6, 4, 4, 2, 7, 5, 2, 6, 5, 6, 5, 4, 2, 5, 2, 6, 4, 2, 7])"
            ]
          },
          "metadata": {},
          "execution_count": 87
        }
      ]
    },
    {
      "cell_type": "code",
      "metadata": {
        "colab": {
          "base_uri": "https://localhost:8080/",
          "height": 295
        },
        "id": "le3WGSfblQBt",
        "outputId": "ead73437-3b22-495b-e447-542838cc7c31"
      },
      "source": [
        "plt.plot(x,poisson.pmf(x,rate),\"-\",marker='s',color='g')\n",
        "plt.xlabel('x')\n",
        "plt.ylabel('Prob')\n",
        "plt.title('PMF of Poisson')\n",
        "plt.show()"
      ],
      "execution_count": 89,
      "outputs": [
        {
          "output_type": "display_data",
          "data": {
            "image/png": "[encoded data removed]",
            "text/plain": [
              "<Figure size 432x288 with 1 Axes>"
            ]
          },
          "metadata": {
            "needs_background": "light"
          }
        }
      ]
    },
    {
      "cell_type": "code",
      "metadata": {
        "colab": {
          "base_uri": "https://localhost:8080/",
          "height": 295
        },
        "id": "L2DjqJYylbH6",
        "outputId": "a454b518-658f-4b5b-8d3a-42607c1a2c78"
      },
      "source": [
        "data_pois = poisson.rvs(rate,size=10000)\n",
        "plt.hist(data_pois,color='r',bins=15) # add color='green',bins=20\n",
        "plt.xlabel('x')\n",
        "plt.ylabel('Freq')\n",
        "plt.title('histogram')\n",
        "plt.show()"
      ],
      "execution_count": 90,
      "outputs": [
        {
          "output_type": "display_data",
          "data": {
            "image/png": "[encoded data removed]",
            "text/plain": [
              "<Figure size 432x288 with 1 Axes>"
            ]
          },
          "metadata": {
            "needs_background": "light"
          }
        }
      ]
    },
    {
      "cell_type": "code",
      "metadata": {
        "id": "PCf_wIzTl-WD"
      },
      "source": [
        "####  for other discrete distributions same code is used by changing distributions."
      ],
      "execution_count": null,
      "outputs": []
    }
  ]
}